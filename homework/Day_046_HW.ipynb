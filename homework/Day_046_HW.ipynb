{
 "cells": [
  {
   "cell_type": "markdown",
   "metadata": {},
   "source": [
    "### 作業\n",
    "目前已經學過許多的模型，相信大家對整體流程應該比較掌握了，這次作業請改用**手寫辨識資料集**，步驟流程都是一樣的，請試著自己撰寫程式碼來完成所有步驟"
   ]
  },
  {
   "cell_type": "code",
   "execution_count": 7,
   "metadata": {},
   "outputs": [],
   "source": [
    "from sklearn import datasets, metrics\n",
    "from sklearn.ensemble import GradientBoostingClassifier\n",
    "from sklearn.model_selection import train_test_split\n",
    "digits = datasets.load_digits()"
   ]
  },
  {
   "cell_type": "code",
   "execution_count": 11,
   "metadata": {},
   "outputs": [
    {
     "name": "stdout",
     "output_type": "stream",
     "text": [
      "(1797, 64)\n",
      "(1797,)\n",
      "acc_train 1.0\n",
      "acc_test 0.9666666666666667\n"
     ]
    }
   ],
   "source": [
    "X = digits.data\n",
    "print(X.shape)\n",
    "y = digits.target\n",
    "print(y.shape)\n",
    "\n",
    "X_train, X_test, y_train, y_test = train_test_split(X,y,test_size=0.2,random_state=10)\n",
    "\n",
    "model1 = GradientBoostingClassifier()\n",
    "model1.fit(X_train,y_train)\n",
    "\n",
    "y_predict_train = model1.predict(X_train)\n",
    "y_predict_test = model1.predict(X_test)\n",
    "print('acc_train',metrics.accuracy_score(y_train,y_predict_train))\n",
    "print('acc_test',metrics.accuracy_score(y_test,y_predict_test))\n",
    "\n"
   ]
  },
  {
   "cell_type": "code",
   "execution_count": 36,
   "metadata": {},
   "outputs": [
    {
     "name": "stdout",
     "output_type": "stream",
     "text": [
      "acc_train_2 1.0\n",
      "acc_test_2 0.975\n"
     ]
    }
   ],
   "source": [
    "##### 準確率已很高 ,且僅有輕微 overfitting現象, 試著降低 overfitting #######\n",
    "learning_rate = 0.05\n",
    "n_estimators = 400\n",
    "max_depth = 3\n",
    "min_samples_split = 9\n",
    "min_samples_leaf = 4\n",
    "subsample = 0.6\n",
    "model2 = GradientBoostingClassifier(learning_rate=learning_rate, n_estimators=n_estimators,max_depth=max_depth, min_samples_split=min_samples_split, min_samples_leaf=min_samples_leaf, subsample=subsample, random_state=10)\n",
    "model2.fit(X_train,y_train)\n",
    "\n",
    "y_predict_train = model2.predict(X_train)\n",
    "y_predict_test = model2.predict(X_test)\n",
    "print('acc_train_2',metrics.accuracy_score(y_train,y_predict_train))\n",
    "print('acc_test_2',metrics.accuracy_score(y_test,y_predict_test))\n",
    "\n",
    "#### 試著調整 learning rte, n_estimators, subsample 準確率提升至 0.975 "
   ]
  }
 ],
 "metadata": {
  "kernelspec": {
   "display_name": "Python 3",
   "language": "python",
   "name": "python3"
  },
  "language_info": {
   "codemirror_mode": {
    "name": "ipython",
    "version": 3
   },
   "file_extension": ".py",
   "mimetype": "text/x-python",
   "name": "python",
   "nbconvert_exporter": "python",
   "pygments_lexer": "ipython3",
   "version": "3.7.1"
  }
 },
 "nbformat": 4,
 "nbformat_minor": 2
}
