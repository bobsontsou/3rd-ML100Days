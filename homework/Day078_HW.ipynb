{
 "cells": [
  {
   "cell_type": "markdown",
   "metadata": {},
   "source": [
    "## Work\n",
    "1. 請嘗試將 preproc_x 替換成以每筆資料的 min/max 進行標準化至 -1 ~ 1 間，再進行訓練\n",
    "2. 請嘗試將 mlp 疊更深 (e.g 5~10 層)，進行訓練後觀察 learning curve 的走勢\n",
    "3. (optional) 請改用 GPU 進行訓練 (如果你有 GPU 的話)，比較使用 CPU 與 GPU 的訓練速度"
   ]
  },
  {
   "cell_type": "code",
   "execution_count": 1,
   "metadata": {},
   "outputs": [
    {
     "name": "stdout",
     "output_type": "stream",
     "text": [
      "[6.3, 6.1, 5.5, 0.0, 7.2, 0.0, 0.0, 5.9]\n",
      "svmem(total=4263886848, available=2096635904, percent=50.8, used=2167250944, free=2096635904)\n"
     ]
    }
   ],
   "source": [
    "## \n",
    "\"\"\"\n",
    "Your code here (optional)\n",
    "確認硬體資源\n",
    "\"\"\"\n",
    "import psutil\n",
    "print(psutil.cpu_percent(interval = 10, percpu = True))\n",
    "print(psutil.virtual_memory())"
   ]
  },
  {
   "cell_type": "code",
   "execution_count": 2,
   "metadata": {},
   "outputs": [
    {
     "name": "stderr",
     "output_type": "stream",
     "text": [
      "Using TensorFlow backend.\n",
      "D:\\Anaconda3\\envs\\envirment_1\\lib\\site-packages\\tensorflow\\python\\framework\\dtypes.py:516: FutureWarning: Passing (type, 1) or '1type' as a synonym of type is deprecated; in a future version of numpy, it will be understood as (type, (1,)) / '(1,)type'.\n",
      "  _np_qint8 = np.dtype([(\"qint8\", np.int8, 1)])\n",
      "D:\\Anaconda3\\envs\\envirment_1\\lib\\site-packages\\tensorflow\\python\\framework\\dtypes.py:517: FutureWarning: Passing (type, 1) or '1type' as a synonym of type is deprecated; in a future version of numpy, it will be understood as (type, (1,)) / '(1,)type'.\n",
      "  _np_quint8 = np.dtype([(\"quint8\", np.uint8, 1)])\n",
      "D:\\Anaconda3\\envs\\envirment_1\\lib\\site-packages\\tensorflow\\python\\framework\\dtypes.py:518: FutureWarning: Passing (type, 1) or '1type' as a synonym of type is deprecated; in a future version of numpy, it will be understood as (type, (1,)) / '(1,)type'.\n",
      "  _np_qint16 = np.dtype([(\"qint16\", np.int16, 1)])\n",
      "D:\\Anaconda3\\envs\\envirment_1\\lib\\site-packages\\tensorflow\\python\\framework\\dtypes.py:519: FutureWarning: Passing (type, 1) or '1type' as a synonym of type is deprecated; in a future version of numpy, it will be understood as (type, (1,)) / '(1,)type'.\n",
      "  _np_quint16 = np.dtype([(\"quint16\", np.uint16, 1)])\n",
      "D:\\Anaconda3\\envs\\envirment_1\\lib\\site-packages\\tensorflow\\python\\framework\\dtypes.py:520: FutureWarning: Passing (type, 1) or '1type' as a synonym of type is deprecated; in a future version of numpy, it will be understood as (type, (1,)) / '(1,)type'.\n",
      "  _np_qint32 = np.dtype([(\"qint32\", np.int32, 1)])\n",
      "D:\\Anaconda3\\envs\\envirment_1\\lib\\site-packages\\tensorflow\\python\\framework\\dtypes.py:525: FutureWarning: Passing (type, 1) or '1type' as a synonym of type is deprecated; in a future version of numpy, it will be understood as (type, (1,)) / '(1,)type'.\n",
      "  np_resource = np.dtype([(\"resource\", np.ubyte, 1)])\n",
      "D:\\Anaconda3\\envs\\envirment_1\\lib\\site-packages\\tensorboard\\compat\\tensorflow_stub\\dtypes.py:541: FutureWarning: Passing (type, 1) or '1type' as a synonym of type is deprecated; in a future version of numpy, it will be understood as (type, (1,)) / '(1,)type'.\n",
      "  _np_qint8 = np.dtype([(\"qint8\", np.int8, 1)])\n",
      "D:\\Anaconda3\\envs\\envirment_1\\lib\\site-packages\\tensorboard\\compat\\tensorflow_stub\\dtypes.py:542: FutureWarning: Passing (type, 1) or '1type' as a synonym of type is deprecated; in a future version of numpy, it will be understood as (type, (1,)) / '(1,)type'.\n",
      "  _np_quint8 = np.dtype([(\"quint8\", np.uint8, 1)])\n",
      "D:\\Anaconda3\\envs\\envirment_1\\lib\\site-packages\\tensorboard\\compat\\tensorflow_stub\\dtypes.py:543: FutureWarning: Passing (type, 1) or '1type' as a synonym of type is deprecated; in a future version of numpy, it will be understood as (type, (1,)) / '(1,)type'.\n",
      "  _np_qint16 = np.dtype([(\"qint16\", np.int16, 1)])\n",
      "D:\\Anaconda3\\envs\\envirment_1\\lib\\site-packages\\tensorboard\\compat\\tensorflow_stub\\dtypes.py:544: FutureWarning: Passing (type, 1) or '1type' as a synonym of type is deprecated; in a future version of numpy, it will be understood as (type, (1,)) / '(1,)type'.\n",
      "  _np_quint16 = np.dtype([(\"quint16\", np.uint16, 1)])\n",
      "D:\\Anaconda3\\envs\\envirment_1\\lib\\site-packages\\tensorboard\\compat\\tensorflow_stub\\dtypes.py:545: FutureWarning: Passing (type, 1) or '1type' as a synonym of type is deprecated; in a future version of numpy, it will be understood as (type, (1,)) / '(1,)type'.\n",
      "  _np_qint32 = np.dtype([(\"qint32\", np.int32, 1)])\n",
      "D:\\Anaconda3\\envs\\envirment_1\\lib\\site-packages\\tensorboard\\compat\\tensorflow_stub\\dtypes.py:550: FutureWarning: Passing (type, 1) or '1type' as a synonym of type is deprecated; in a future version of numpy, it will be understood as (type, (1,)) / '(1,)type'.\n",
      "  np_resource = np.dtype([(\"resource\", np.ubyte, 1)])\n"
     ]
    }
   ],
   "source": [
    "import os\n",
    "import keras\n",
    "\n",
    "# 請嘗試設定 GPU：os.environ\n"
   ]
  },
  {
   "cell_type": "code",
   "execution_count": 3,
   "metadata": {},
   "outputs": [],
   "source": [
    "train, test = keras.datasets.cifar10.load_data()"
   ]
  },
  {
   "cell_type": "code",
   "execution_count": 4,
   "metadata": {},
   "outputs": [],
   "source": [
    "## 資料前處理\n",
    "\"\"\"\n",
    "Your code here\n",
    "\"\"\"\n",
    "from sklearn import preprocessing\n",
    "import numpy as np\n",
    "x_data = np.vstack((train[0],test[0]))\n",
    "#x_data = x_data.reshape((len(x_data), -1))\n",
    "min_matrix=np.zeros(x_data.shape[1:])\n",
    "max_matrix=np.zeros(x_data.shape[1:])\n",
    "\n",
    "for i in range(x_data.shape[1]):\n",
    "    for j in range(x_data.shape[2]):\n",
    "        for k in range(x_data.shape[3]):\n",
    "            \n",
    "            min_matrix[i,j,k]=np.min(x_data[:,i,j,k])\n",
    "            max_matrix[i,j,k]=np.max(x_data[:,i,j,k])\n",
    "            \n",
    "\n",
    "#minmaxscaler = preprocessing.MinMaxScaler()\n",
    "#minmaxscaler.fit(x_data)\n",
    "\n",
    "def preproc_x(x , flatten =True):\n",
    "    #x = x.reshape((len(x), -1))\n",
    "    #x = minmaxscaler.transform(x)\n",
    "    x = (x - min_matrix)/(max_matrix-min_matrix)\n",
    "    x = 2*(x - 0.5)\n",
    "    if flatten:\n",
    "        x = x.reshape((len(x), -1))\n",
    "    return x\n",
    " \n",
    "\n",
    "def preproc_y(y , num_class=10):\n",
    "    if y.shape[-1] == 1:\n",
    "        y = keras.utils.to_categorical(y , num_class)\n",
    "    return y"
   ]
  },
  {
   "cell_type": "code",
   "execution_count": 5,
   "metadata": {},
   "outputs": [],
   "source": [
    "x_train, y_train = train\n",
    "x_test, y_test = test\n",
    "\n",
    "# Preproc the inputs\n",
    "x_train = preproc_x(x_train)\n",
    "x_test = preproc_x(x_test)\n",
    "\n",
    "# Preprc the outputs\n",
    "y_train = preproc_y(y_train)\n",
    "y_test = preproc_y(y_test)"
   ]
  },
  {
   "cell_type": "code",
   "execution_count": 14,
   "metadata": {},
   "outputs": [],
   "source": [
    "model"
   ]
  },
  {
   "cell_type": "code",
   "execution_count": 6,
   "metadata": {},
   "outputs": [
    {
     "name": "stdout",
     "output_type": "stream",
     "text": [
      "Model: \"sequential_1\"\n",
      "_________________________________________________________________\n",
      "Layer (type)                 Output Shape              Param #   \n",
      "=================================================================\n",
      "dense_1 (Dense)              (None, 512)               1573376   \n",
      "_________________________________________________________________\n",
      "dense_2 (Dense)              (None, 256)               131328    \n",
      "_________________________________________________________________\n",
      "dense_3 (Dense)              (None, 128)               32896     \n",
      "_________________________________________________________________\n",
      "dense_4 (Dense)              (None, 128)               16512     \n",
      "_________________________________________________________________\n",
      "dense_5 (Dense)              (None, 64)                8256      \n",
      "_________________________________________________________________\n",
      "dense_6 (Dense)              (None, 64)                4160      \n",
      "_________________________________________________________________\n",
      "dense_7 (Dense)              (None, 32)                2080      \n",
      "_________________________________________________________________\n",
      "dense_8 (Dense)              (None, 10)                330       \n",
      "=================================================================\n",
      "Total params: 1,768,938\n",
      "Trainable params: 1,768,938\n",
      "Non-trainable params: 0\n",
      "_________________________________________________________________\n"
     ]
    }
   ],
   "source": [
    "\"\"\"Code Here\n",
    "建立你的神經網路\n",
    "\"\"\"\n",
    "from keras.models import Sequential\n",
    "from keras.layers import Dense\n",
    "def build_mlp(input_shape, output_units=10, num_neurons=[512, 256, 128]):\n",
    "    model = Sequential()\n",
    "    model.add(Dense(input_shape= input_shape , units = 512 , activation = 'relu'))\n",
    "    model.add(Dense(units = 256 , activation = 'relu'))\n",
    "    model.add(Dense(units = 128 , activation = 'relu'))\n",
    "    model.add(Dense(units = 128 , activation = 'relu'))\n",
    "    model.add(Dense(units = 64 , activation = 'relu'))\n",
    "    model.add(Dense(units = 64 , activation = 'relu'))\n",
    "    model.add(Dense(units = 32 , activation = 'relu'))\n",
    "    model.add(Dense(units =10, activation = 'softmax'))\n",
    "    return model\n",
    "model = build_mlp(input_shape = x_train.shape[1:])\n",
    "model.summary()\n"
   ]
  },
  {
   "cell_type": "code",
   "execution_count": 7,
   "metadata": {},
   "outputs": [],
   "source": [
    "## 超參數設定\n",
    "LEARNING_RATE = 0.001\n",
    "EPOCHS = 100\n",
    "BATCH_SIZE = 256"
   ]
  },
  {
   "cell_type": "code",
   "execution_count": 8,
   "metadata": {},
   "outputs": [],
   "source": [
    "optimizer = keras.optimizers.Adam(lr=LEARNING_RATE)\n",
    "model.compile(loss=\"categorical_crossentropy\", metrics=[\"accuracy\"], optimizer=optimizer)"
   ]
  },
  {
   "cell_type": "code",
   "execution_count": 9,
   "metadata": {},
   "outputs": [
    {
     "name": "stdout",
     "output_type": "stream",
     "text": [
      "WARNING:tensorflow:From D:\\Anaconda3\\envs\\envirment_1\\lib\\site-packages\\keras\\backend\\tensorflow_backend.py:422: The name tf.global_variables is deprecated. Please use tf.compat.v1.global_variables instead.\n",
      "\n",
      "Train on 50000 samples, validate on 10000 samples\n",
      "Epoch 1/100\n",
      "50000/50000 [==============================] - 22s 441us/step - loss: 1.7695 - accuracy: 0.3719 - val_loss: 1.5814 - val_accuracy: 0.4507\n",
      "Epoch 2/100\n",
      "50000/50000 [==============================] - 13s 257us/step - loss: 1.5080 - accuracy: 0.4685 - val_loss: 1.4876 - val_accuracy: 0.4721\n",
      "Epoch 3/100\n",
      "50000/50000 [==============================] - 13s 255us/step - loss: 1.3894 - accuracy: 0.5117 - val_loss: 1.4159 - val_accuracy: 0.5009\n",
      "Epoch 4/100\n",
      "50000/50000 [==============================] - 13s 259us/step - loss: 1.2949 - accuracy: 0.5441 - val_loss: 1.3767 - val_accuracy: 0.5155\n",
      "Epoch 5/100\n",
      "50000/50000 [==============================] - 13s 257us/step - loss: 1.2100 - accuracy: 0.5723 - val_loss: 1.3841 - val_accuracy: 0.5187\n",
      "Epoch 6/100\n",
      "50000/50000 [==============================] - 13s 252us/step - loss: 1.1337 - accuracy: 0.5989 - val_loss: 1.3883 - val_accuracy: 0.5210\n",
      "Epoch 7/100\n",
      "50000/50000 [==============================] - 13s 252us/step - loss: 1.0612 - accuracy: 0.6245 - val_loss: 1.3588 - val_accuracy: 0.5332\n",
      "Epoch 8/100\n",
      "50000/50000 [==============================] - 13s 253us/step - loss: 1.0027 - accuracy: 0.6465 - val_loss: 1.3869 - val_accuracy: 0.5334\n",
      "Epoch 9/100\n",
      "50000/50000 [==============================] - 13s 252us/step - loss: 0.9351 - accuracy: 0.6689 - val_loss: 1.3998 - val_accuracy: 0.5394\n",
      "Epoch 10/100\n",
      "50000/50000 [==============================] - 13s 265us/step - loss: 0.8673 - accuracy: 0.6932 - val_loss: 1.4507 - val_accuracy: 0.5364\n",
      "Epoch 11/100\n",
      "50000/50000 [==============================] - 13s 253us/step - loss: 0.7992 - accuracy: 0.7170 - val_loss: 1.4825 - val_accuracy: 0.5339\n",
      "Epoch 12/100\n",
      "50000/50000 [==============================] - 13s 252us/step - loss: 0.7489 - accuracy: 0.7357 - val_loss: 1.5162 - val_accuracy: 0.5407\n",
      "Epoch 13/100\n",
      "50000/50000 [==============================] - 13s 255us/step - loss: 0.6937 - accuracy: 0.7538 - val_loss: 1.5720 - val_accuracy: 0.5331\n",
      "Epoch 14/100\n",
      "50000/50000 [==============================] - 13s 254us/step - loss: 0.6331 - accuracy: 0.7754 - val_loss: 1.6403 - val_accuracy: 0.5382\n",
      "Epoch 15/100\n",
      "50000/50000 [==============================] - 13s 253us/step - loss: 0.5931 - accuracy: 0.7900 - val_loss: 1.7217 - val_accuracy: 0.5321\n",
      "Epoch 16/100\n",
      "50000/50000 [==============================] - 13s 254us/step - loss: 0.5494 - accuracy: 0.8064 - val_loss: 1.7636 - val_accuracy: 0.5379\n",
      "Epoch 17/100\n",
      "50000/50000 [==============================] - 13s 254us/step - loss: 0.5082 - accuracy: 0.8197 - val_loss: 1.8102 - val_accuracy: 0.5323\n",
      "Epoch 18/100\n",
      "50000/50000 [==============================] - 13s 254us/step - loss: 0.4692 - accuracy: 0.8348 - val_loss: 1.9157 - val_accuracy: 0.5328\n",
      "Epoch 19/100\n",
      "50000/50000 [==============================] - 13s 254us/step - loss: 0.4269 - accuracy: 0.8485 - val_loss: 1.9000 - val_accuracy: 0.5324\n",
      "Epoch 20/100\n",
      "50000/50000 [==============================] - 13s 255us/step - loss: 0.3993 - accuracy: 0.8580 - val_loss: 2.0867 - val_accuracy: 0.5352\n",
      "Epoch 21/100\n",
      "50000/50000 [==============================] - 13s 255us/step - loss: 0.3840 - accuracy: 0.8646 - val_loss: 2.1194 - val_accuracy: 0.5362\n",
      "Epoch 22/100\n",
      "50000/50000 [==============================] - 13s 256us/step - loss: 0.3501 - accuracy: 0.8784 - val_loss: 2.1527 - val_accuracy: 0.5376\n",
      "Epoch 23/100\n",
      "50000/50000 [==============================] - 13s 258us/step - loss: 0.3283 - accuracy: 0.8851 - val_loss: 2.2750 - val_accuracy: 0.5314\n",
      "Epoch 24/100\n",
      "50000/50000 [==============================] - 13s 269us/step - loss: 0.2983 - accuracy: 0.8963 - val_loss: 2.3972 - val_accuracy: 0.5338\n",
      "Epoch 25/100\n",
      "50000/50000 [==============================] - 13s 263us/step - loss: 0.2967 - accuracy: 0.8958 - val_loss: 2.3959 - val_accuracy: 0.5270\n",
      "Epoch 26/100\n",
      "50000/50000 [==============================] - 14s 276us/step - loss: 0.2761 - accuracy: 0.9061 - val_loss: 2.4574 - val_accuracy: 0.5272\n",
      "Epoch 27/100\n",
      "50000/50000 [==============================] - 13s 269us/step - loss: 0.2507 - accuracy: 0.9113 - val_loss: 2.6966 - val_accuracy: 0.5261\n",
      "Epoch 28/100\n",
      "50000/50000 [==============================] - 13s 255us/step - loss: 0.2373 - accuracy: 0.9183 - val_loss: 2.6102 - val_accuracy: 0.5208\n",
      "Epoch 29/100\n",
      "50000/50000 [==============================] - 13s 266us/step - loss: 0.2384 - accuracy: 0.9183 - val_loss: 2.6778 - val_accuracy: 0.5347\n",
      "Epoch 30/100\n",
      "50000/50000 [==============================] - 13s 269us/step - loss: 0.2138 - accuracy: 0.9270 - val_loss: 2.7522 - val_accuracy: 0.5202\n",
      "Epoch 31/100\n",
      "50000/50000 [==============================] - 13s 269us/step - loss: 0.2115 - accuracy: 0.9277 - val_loss: 2.6129 - val_accuracy: 0.5208\n",
      "Epoch 32/100\n",
      "50000/50000 [==============================] - 14s 270us/step - loss: 0.2002 - accuracy: 0.9311 - val_loss: 2.9334 - val_accuracy: 0.5266\n",
      "Epoch 33/100\n",
      "50000/50000 [==============================] - 14s 270us/step - loss: 0.2006 - accuracy: 0.9312 - val_loss: 2.8473 - val_accuracy: 0.5227\n",
      "Epoch 34/100\n",
      "50000/50000 [==============================] - 13s 252us/step - loss: 0.1995 - accuracy: 0.9333 - val_loss: 3.0460 - val_accuracy: 0.5278\n",
      "Epoch 35/100\n",
      "50000/50000 [==============================] - 14s 271us/step - loss: 0.1938 - accuracy: 0.9349 - val_loss: 2.8628 - val_accuracy: 0.5306\n",
      "Epoch 36/100\n",
      "50000/50000 [==============================] - 13s 270us/step - loss: 0.1751 - accuracy: 0.9404 - val_loss: 2.9494 - val_accuracy: 0.5253\n",
      "Epoch 37/100\n",
      "50000/50000 [==============================] - 13s 270us/step - loss: 0.1709 - accuracy: 0.9421 - val_loss: 2.9230 - val_accuracy: 0.5274\n",
      "Epoch 38/100\n",
      "50000/50000 [==============================] - 13s 269us/step - loss: 0.1641 - accuracy: 0.9453 - val_loss: 3.1250 - val_accuracy: 0.5169\n",
      "Epoch 39/100\n",
      "50000/50000 [==============================] - 13s 270us/step - loss: 0.1636 - accuracy: 0.9446 - val_loss: 3.1078 - val_accuracy: 0.5296\n",
      "Epoch 40/100\n",
      "50000/50000 [==============================] - 13s 270us/step - loss: 0.1601 - accuracy: 0.9459 - val_loss: 3.0847 - val_accuracy: 0.5237\n",
      "Epoch 41/100\n",
      "50000/50000 [==============================] - 14s 270us/step - loss: 0.1503 - accuracy: 0.9495 - val_loss: 3.2982 - val_accuracy: 0.5227\n",
      "Epoch 42/100\n",
      "50000/50000 [==============================] - 14s 285us/step - loss: 0.1507 - accuracy: 0.9494 - val_loss: 3.0808 - val_accuracy: 0.5283\n",
      "Epoch 43/100\n",
      "50000/50000 [==============================] - 13s 257us/step - loss: 0.1412 - accuracy: 0.9531 - val_loss: 3.3076 - val_accuracy: 0.5280\n",
      "Epoch 44/100\n",
      "50000/50000 [==============================] - 14s 288us/step - loss: 0.1440 - accuracy: 0.9513 - val_loss: 3.2994 - val_accuracy: 0.5313\n",
      "Epoch 45/100\n",
      "50000/50000 [==============================] - 13s 252us/step - loss: 0.1392 - accuracy: 0.9532 - val_loss: 3.2087 - val_accuracy: 0.5293\n",
      "Epoch 46/100\n",
      "50000/50000 [==============================] - 14s 271us/step - loss: 0.1494 - accuracy: 0.9495 - val_loss: 3.1690 - val_accuracy: 0.5213\n",
      "Epoch 47/100\n",
      "50000/50000 [==============================] - 14s 279us/step - loss: 0.1244 - accuracy: 0.9581 - val_loss: 3.4159 - val_accuracy: 0.5371\n",
      "Epoch 48/100\n",
      "50000/50000 [==============================] - 14s 282us/step - loss: 0.1363 - accuracy: 0.9541 - val_loss: 3.3139 - val_accuracy: 0.5305\n",
      "Epoch 49/100\n",
      "50000/50000 [==============================] - 15s 291us/step - loss: 0.1215 - accuracy: 0.9592 - val_loss: 3.3482 - val_accuracy: 0.5252\n",
      "Epoch 50/100\n",
      "50000/50000 [==============================] - 14s 272us/step - loss: 0.1213 - accuracy: 0.9599 - val_loss: 3.4005 - val_accuracy: 0.5354\n",
      "Epoch 51/100\n",
      "50000/50000 [==============================] - 14s 271us/step - loss: 0.1151 - accuracy: 0.9610 - val_loss: 3.2143 - val_accuracy: 0.5348\n",
      "Epoch 52/100\n",
      "50000/50000 [==============================] - 14s 271us/step - loss: 0.1030 - accuracy: 0.9651 - val_loss: 3.6353 - val_accuracy: 0.5313\n",
      "Epoch 53/100\n"
     ]
    },
    {
     "name": "stdout",
     "output_type": "stream",
     "text": [
      "50000/50000 [==============================] - 13s 267us/step - loss: 0.1189 - accuracy: 0.9605 - val_loss: 3.3015 - val_accuracy: 0.5384\n",
      "Epoch 54/100\n",
      "50000/50000 [==============================] - 13s 268us/step - loss: 0.1099 - accuracy: 0.9622 - val_loss: 3.4936 - val_accuracy: 0.5260\n",
      "Epoch 55/100\n",
      "50000/50000 [==============================] - 13s 269us/step - loss: 0.1193 - accuracy: 0.9604 - val_loss: 3.4495 - val_accuracy: 0.5336\n",
      "Epoch 56/100\n",
      "50000/50000 [==============================] - 14s 287us/step - loss: 0.1069 - accuracy: 0.9643 - val_loss: 3.5007 - val_accuracy: 0.5332\n",
      "Epoch 57/100\n",
      "50000/50000 [==============================] - 12s 250us/step - loss: 0.1079 - accuracy: 0.9644 - val_loss: 3.5177 - val_accuracy: 0.5295\n",
      "Epoch 58/100\n",
      "50000/50000 [==============================] - 14s 287us/step - loss: 0.1125 - accuracy: 0.9636 - val_loss: 3.4723 - val_accuracy: 0.5305\n",
      "Epoch 59/100\n",
      "50000/50000 [==============================] - 14s 272us/step - loss: 0.0912 - accuracy: 0.9706 - val_loss: 3.7109 - val_accuracy: 0.5362\n",
      "Epoch 60/100\n",
      "50000/50000 [==============================] - 14s 288us/step - loss: 0.1092 - accuracy: 0.9640 - val_loss: 3.3961 - val_accuracy: 0.5274\n",
      "Epoch 61/100\n",
      "50000/50000 [==============================] - 12s 250us/step - loss: 0.0973 - accuracy: 0.9680 - val_loss: 3.7335 - val_accuracy: 0.5245\n",
      "Epoch 62/100\n",
      "50000/50000 [==============================] - 14s 279us/step - loss: 0.1116 - accuracy: 0.9624 - val_loss: 3.4761 - val_accuracy: 0.5288\n",
      "Epoch 63/100\n",
      "50000/50000 [==============================] - 14s 279us/step - loss: 0.0907 - accuracy: 0.9699 - val_loss: 3.8809 - val_accuracy: 0.5351\n",
      "Epoch 64/100\n",
      "50000/50000 [==============================] - 13s 269us/step - loss: 0.1058 - accuracy: 0.9656 - val_loss: 3.5914 - val_accuracy: 0.5274\n",
      "Epoch 65/100\n",
      "50000/50000 [==============================] - 14s 287us/step - loss: 0.0894 - accuracy: 0.9708 - val_loss: 3.5114 - val_accuracy: 0.5223\n",
      "Epoch 66/100\n",
      "50000/50000 [==============================] - 13s 268us/step - loss: 0.0896 - accuracy: 0.9702 - val_loss: 3.6551 - val_accuracy: 0.5280\n",
      "Epoch 67/100\n",
      "50000/50000 [==============================] - 13s 255us/step - loss: 0.0926 - accuracy: 0.9699 - val_loss: 3.5714 - val_accuracy: 0.5301\n",
      "Epoch 68/100\n",
      "50000/50000 [==============================] - 14s 287us/step - loss: 0.0886 - accuracy: 0.9706 - val_loss: 3.6882 - val_accuracy: 0.5257\n",
      "Epoch 69/100\n",
      "50000/50000 [==============================] - 13s 270us/step - loss: 0.1018 - accuracy: 0.9674 - val_loss: 3.4024 - val_accuracy: 0.5281\n",
      "Epoch 70/100\n",
      "50000/50000 [==============================] - 14s 287us/step - loss: 0.0811 - accuracy: 0.9735 - val_loss: 3.5108 - val_accuracy: 0.5219\n",
      "Epoch 71/100\n",
      "50000/50000 [==============================] - 13s 269us/step - loss: 0.0956 - accuracy: 0.9692 - val_loss: 3.6260 - val_accuracy: 0.5288\n",
      "Epoch 72/100\n",
      "50000/50000 [==============================] - 14s 287us/step - loss: 0.0902 - accuracy: 0.9704 - val_loss: 3.6897 - val_accuracy: 0.5333\n",
      "Epoch 73/100\n",
      "50000/50000 [==============================] - 13s 269us/step - loss: 0.0905 - accuracy: 0.9703 - val_loss: 3.6771 - val_accuracy: 0.5236\n",
      "Epoch 74/100\n",
      "50000/50000 [==============================] - 14s 288us/step - loss: 0.0833 - accuracy: 0.9729 - val_loss: 3.7745 - val_accuracy: 0.5312\n",
      "Epoch 75/100\n",
      "50000/50000 [==============================] - 13s 270us/step - loss: 0.0878 - accuracy: 0.9705 - val_loss: 3.8174 - val_accuracy: 0.5247\n",
      "Epoch 76/100\n",
      "50000/50000 [==============================] - 13s 269us/step - loss: 0.0787 - accuracy: 0.9744 - val_loss: 3.6569 - val_accuracy: 0.5279\n",
      "Epoch 77/100\n",
      "50000/50000 [==============================] - 13s 270us/step - loss: 0.0879 - accuracy: 0.9713 - val_loss: 3.6433 - val_accuracy: 0.5334\n",
      "Epoch 78/100\n",
      "50000/50000 [==============================] - 14s 270us/step - loss: 0.0736 - accuracy: 0.9760 - val_loss: 3.7326 - val_accuracy: 0.5327\n",
      "Epoch 79/100\n",
      "50000/50000 [==============================] - 14s 285us/step - loss: 0.0724 - accuracy: 0.9768 - val_loss: 3.7096 - val_accuracy: 0.5341\n",
      "Epoch 80/100\n",
      "50000/50000 [==============================] - 14s 274us/step - loss: 0.0778 - accuracy: 0.9739 - val_loss: 3.8798 - val_accuracy: 0.5308\n",
      "Epoch 81/100\n",
      "50000/50000 [==============================] - 13s 269us/step - loss: 0.0924 - accuracy: 0.9703 - val_loss: 3.8048 - val_accuracy: 0.5283\n",
      "Epoch 82/100\n",
      "50000/50000 [==============================] - 14s 288us/step - loss: 0.0772 - accuracy: 0.9749 - val_loss: 3.7089 - val_accuracy: 0.5241\n",
      "Epoch 83/100\n",
      "50000/50000 [==============================] - 14s 271us/step - loss: 0.0832 - accuracy: 0.9727 - val_loss: 3.6030 - val_accuracy: 0.5309\n",
      "Epoch 84/100\n",
      "50000/50000 [==============================] - 14s 287us/step - loss: 0.0769 - accuracy: 0.9754 - val_loss: 3.7620 - val_accuracy: 0.5353\n",
      "Epoch 85/100\n",
      "50000/50000 [==============================] - 13s 269us/step - loss: 0.0687 - accuracy: 0.9781 - val_loss: 3.7060 - val_accuracy: 0.5323\n",
      "Epoch 86/100\n",
      "50000/50000 [==============================] - 13s 270us/step - loss: 0.0735 - accuracy: 0.9764 - val_loss: 3.8516 - val_accuracy: 0.5309\n",
      "Epoch 87/100\n",
      "50000/50000 [==============================] - 14s 271us/step - loss: 0.0817 - accuracy: 0.9739 - val_loss: 3.6639 - val_accuracy: 0.5319\n",
      "Epoch 88/100\n",
      "50000/50000 [==============================] - 14s 271us/step - loss: 0.0736 - accuracy: 0.9770 - val_loss: 3.7306 - val_accuracy: 0.5260\n",
      "Epoch 89/100\n",
      "50000/50000 [==============================] - 14s 289us/step - loss: 0.0783 - accuracy: 0.9750 - val_loss: 3.6294 - val_accuracy: 0.5340\n",
      "Epoch 90/100\n",
      "50000/50000 [==============================] - 14s 271us/step - loss: 0.0562 - accuracy: 0.9824 - val_loss: 3.7269 - val_accuracy: 0.5314\n",
      "Epoch 91/100\n",
      "50000/50000 [==============================] - 14s 289us/step - loss: 0.0687 - accuracy: 0.9786 - val_loss: 3.5628 - val_accuracy: 0.5308\n",
      "Epoch 92/100\n",
      "50000/50000 [==============================] - 14s 288us/step - loss: 0.0729 - accuracy: 0.9761 - val_loss: 3.3976 - val_accuracy: 0.5305\n",
      "Epoch 93/100\n",
      "50000/50000 [==============================] - 14s 288us/step - loss: 0.0693 - accuracy: 0.9777 - val_loss: 3.6700 - val_accuracy: 0.5314\n",
      "Epoch 94/100\n",
      "50000/50000 [==============================] - 13s 251us/step - loss: 0.0701 - accuracy: 0.9778 - val_loss: 3.5992 - val_accuracy: 0.5353\n",
      "Epoch 95/100\n",
      "50000/50000 [==============================] - 14s 283us/step - loss: 0.0685 - accuracy: 0.9784 - val_loss: 3.6593 - val_accuracy: 0.5359\n",
      "Epoch 96/100\n",
      "50000/50000 [==============================] - 14s 279us/step - loss: 0.0689 - accuracy: 0.9774 - val_loss: 3.7308 - val_accuracy: 0.5320\n",
      "Epoch 97/100\n",
      "50000/50000 [==============================] - 14s 271us/step - loss: 0.0646 - accuracy: 0.9793 - val_loss: 3.8726 - val_accuracy: 0.5356\n",
      "Epoch 98/100\n",
      "50000/50000 [==============================] - 14s 271us/step - loss: 0.0636 - accuracy: 0.9802 - val_loss: 3.8198 - val_accuracy: 0.5304\n",
      "Epoch 99/100\n",
      "50000/50000 [==============================] - 14s 288us/step - loss: 0.0622 - accuracy: 0.9800 - val_loss: 3.7750 - val_accuracy: 0.5358\n",
      "Epoch 100/100\n",
      "50000/50000 [==============================] - 13s 270us/step - loss: 0.0656 - accuracy: 0.9795 - val_loss: 3.6507 - val_accuracy: 0.5276\n"
     ]
    },
    {
     "data": {
      "text/plain": [
       "<keras.callbacks.callbacks.History at 0x2bcba400>"
      ]
     },
     "execution_count": 9,
     "metadata": {},
     "output_type": "execute_result"
    }
   ],
   "source": [
    "model.fit(x_train, y_train, \n",
    "          epochs=EPOCHS, \n",
    "          batch_size=BATCH_SIZE, \n",
    "          validation_data=(x_test, y_test), \n",
    "          shuffle=True)"
   ]
  },
  {
   "cell_type": "code",
   "execution_count": 11,
   "metadata": {},
   "outputs": [
    {
     "data": {
      "image/png": "[encoded data removed]",
      "text/plain": [
       "<Figure size 432x288 with 1 Axes>"
      ]
     },
     "metadata": {
      "needs_background": "light"
     },
     "output_type": "display_data"
    },
    {
     "data": {
      "image/png": "[encoded data removed]",
      "text/plain": [
       "<Figure size 432x288 with 1 Axes>"
      ]
     },
     "metadata": {
      "needs_background": "light"
     },
     "output_type": "display_data"
    }
   ],
   "source": [
    "import matplotlib.pyplot as plt\n",
    "\n",
    "\n",
    "train_loss = model.history.history[\"loss\"]\n",
    "valid_loss = model.history.history[\"val_loss\"]\n",
    "\n",
    "train_acc = model.history.history[\"accuracy\"]\n",
    "valid_acc = model.history.history[\"val_accuracy\"]\n",
    "\n",
    "plt.plot(range(len(train_loss)), train_loss, label=\"train loss\")\n",
    "plt.plot(range(len(valid_loss)), valid_loss, label=\"valid loss\")\n",
    "plt.legend()\n",
    "plt.title(\"Loss\")\n",
    "plt.show()\n",
    "\n",
    "plt.plot(range(len(train_acc)), train_acc, label=\"train accuracy\")\n",
    "plt.plot(range(len(valid_acc)), valid_acc, label=\"valid accuracy\")\n",
    "plt.legend()\n",
    "plt.title(\"Accuracy\")\n",
    "plt.show()"
   ]
  }
 ],
 "metadata": {
  "kernelspec": {
   "display_name": "Python 3",
   "language": "python",
   "name": "python3"
  },
  "language_info": {
   "codemirror_mode": {
    "name": "ipython",
    "version": 3
   },
   "file_extension": ".py",
   "mimetype": "text/x-python",
   "name": "python",
   "nbconvert_exporter": "python",
   "pygments_lexer": "ipython3",
   "version": "3.7.1"
  }
 },
 "nbformat": 4,
 "nbformat_minor": 2
}
