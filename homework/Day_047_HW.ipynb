{
 "cells": [
  {
   "cell_type": "markdown",
   "metadata": {},
   "source": [
    "## [作業重點]\n",
    "了解如何使用 Sklearn 中的 hyper-parameter search 找出最佳的超參數"
   ]
  },
  {
   "cell_type": "markdown",
   "metadata": {},
   "source": [
    "### 作業\n",
    "請使用不同的資料集，並使用 hyper-parameter search 的方式，看能不能找出最佳的超參數組合"
   ]
  },
  {
   "cell_type": "code",
   "execution_count": 6,
   "metadata": {},
   "outputs": [
    {
     "name": "stdout",
     "output_type": "stream",
     "text": [
      "acc_train 1.0\n",
      "acc_test 0.9638888888888889\n"
     ]
    }
   ],
   "source": [
    "from sklearn import datasets, metrics\n",
    "from sklearn.ensemble import GradientBoostingClassifier, GradientBoostingRegressor\n",
    "from sklearn.model_selection import train_test_split, GridSearchCV\n",
    "\n",
    "digits = datasets.load_digits()\n",
    "X = digits.data\n",
    "y = digits.target\n",
    "\n",
    "X_train, X_test, y_train, y_test = train_test_split(X, y ,test_size = 0.2 , random_state = 0)\n",
    "model_1 = GradientBoostingClassifier()\n",
    "model_1.fit(X_train, y_train)\n",
    "predict_train = model_1.predict(X_train)\n",
    "predict_test = model_1.predict(X_test)\n",
    "\n",
    "acc_train = metrics.accuracy_score(y_train , predict_train)\n",
    "print('acc_train',acc_train)\n",
    "acc_test = metrics.accuracy_score(y_test , predict_test)\n",
    "print('acc_test',acc_test)"
   ]
  },
  {
   "cell_type": "code",
   "execution_count": 13,
   "metadata": {},
   "outputs": [
    {
     "name": "stdout",
     "output_type": "stream",
     "text": [
      "Fitting 3 folds for each of 32 candidates, totalling 96 fits\n"
     ]
    },
    {
     "name": "stderr",
     "output_type": "stream",
     "text": [
      "[Parallel(n_jobs=-1)]: Using backend LokyBackend with 8 concurrent workers.\n",
      "[Parallel(n_jobs=-1)]: Done  34 tasks      | elapsed:   27.5s\n",
      "[Parallel(n_jobs=-1)]: Done  96 out of  96 | elapsed:  1.2min finished\n"
     ]
    },
    {
     "name": "stdout",
     "output_type": "stream",
     "text": [
      "best_params {'learning_rate': 0.1, 'n_estimators': 200}\n",
      "best_score 0.9582463465553236\n"
     ]
    }
   ],
   "source": [
    "### 調整 learning_rate, n_estimators ###\n",
    "learning_rate = [0.005, 0.01,0.05,0.1]\n",
    "n_estimators = [30,50,70,100,130,150,180,200]\n",
    "#max_depth = [2 ,3 ,5 ,7 ,10 , 12 ,15]\n",
    "#min_samples_split = [2,5,8,11,14,17,20,23,26,29,32,35,38,41,44,47,50]\n",
    "#min_samples_leaf = [1,3,5,7,9,11,13,15,17,19]\n",
    "#max_features = []\n",
    "#subsample = [0.6, 0.7, 0.8, 0.9, 1]\n",
    "param_grid = dict(learning_rate=learning_rate, n_estimators=n_estimators)\n",
    "#param_grid = dict(learning_rate=learning_rate, n_estimators=n_estimators, max_depth=max_depth, min_samples_split=min_samples_split, min_samples_leaf=min_samples_leaf, subsample=subsample)\n",
    "model_1_grids = GridSearchCV(model_1, param_grid , scoring = 'accuracy', n_jobs = -1, verbose = 1 , cv = 3)\n",
    "model_1_grids.fit(X_train, y_train)\n",
    "print('best_params', model_1_grids.best_params_)\n",
    "print('best_score',model_1_grids.best_score_)"
   ]
  },
  {
   "cell_type": "code",
   "execution_count": 14,
   "metadata": {},
   "outputs": [
    {
     "name": "stdout",
     "output_type": "stream",
     "text": [
      "Fitting 3 folds for each of 49 candidates, totalling 147 fits\n"
     ]
    },
    {
     "name": "stderr",
     "output_type": "stream",
     "text": [
      "[Parallel(n_jobs=-1)]: Using backend LokyBackend with 8 concurrent workers.\n",
      "[Parallel(n_jobs=-1)]: Done  34 tasks      | elapsed:   32.8s\n",
      "[Parallel(n_jobs=-1)]: Done 147 out of 147 | elapsed:  2.6min finished\n"
     ]
    },
    {
     "name": "stdout",
     "output_type": "stream",
     "text": [
      "best_params {'max_depth': 3, 'min_samples_split': 2}\n",
      "best_score 0.9575504523312457\n"
     ]
    }
   ],
   "source": [
    "### 調整 max_depth, min_samples_split ###\n",
    "\n",
    "model_2 = GradientBoostingClassifier(learning_rate = 0.1, n_estimators = 200)\n",
    "param_grid = dict(learning_rate=learning_rate, n_estimators=n_estimators)\n",
    "max_depth = [2 ,3 ,5 ,7 ,10 , 12 ,15]\n",
    "min_samples_split = [2,5,11,23,32,41,50]\n",
    "param_grid = dict(max_depth=max_depth, min_samples_split=min_samples_split)\n",
    "model_1_grids_2 = GridSearchCV(model_2, param_grid , scoring = 'accuracy', n_jobs = -1, verbose = 1 , cv = 3)\n",
    "model_1_grids_2.fit(X_train, y_train)\n",
    "print('best_params', model_1_grids_2.best_params_)\n",
    "print('best_score',model_1_grids_2.best_score_)"
   ]
  },
  {
   "cell_type": "code",
   "execution_count": 15,
   "metadata": {},
   "outputs": [
    {
     "name": "stdout",
     "output_type": "stream",
     "text": [
      "Fitting 3 folds for each of 35 candidates, totalling 105 fits\n"
     ]
    },
    {
     "name": "stderr",
     "output_type": "stream",
     "text": [
      "[Parallel(n_jobs=-1)]: Using backend LokyBackend with 8 concurrent workers.\n",
      "[Parallel(n_jobs=-1)]: Done  34 tasks      | elapsed:   30.3s\n",
      "[Parallel(n_jobs=-1)]: Done 105 out of 105 | elapsed:  1.4min finished\n"
     ]
    },
    {
     "name": "stdout",
     "output_type": "stream",
     "text": [
      "best_params {'min_samples_leaf': 15, 'subsample': 0.7}\n",
      "best_score 0.9679888656924147\n"
     ]
    }
   ],
   "source": [
    "### 調整 min_samples_leaf, subsample ###\n",
    "\n",
    "model_3 = GradientBoostingClassifier(learning_rate = 0.1, n_estimators = 200, max_depth = 3, min_samples_split =2)\n",
    "min_samples_leaf = [1,3,5,9,13,15,19]\n",
    "subsample = [0.6, 0.7, 0.8, 0.9, 0.99]\n",
    "param_grid = dict(min_samples_leaf=min_samples_leaf, subsample=subsample)\n",
    "model_1_grids_3 = GridSearchCV(model_2, param_grid , scoring = 'accuracy', n_jobs = -1, verbose = 1 , cv = 3)\n",
    "model_1_grids_3.fit(X_train, y_train)\n",
    "print('best_params', model_1_grids_3.best_params_)\n",
    "print('best_score',model_1_grids_3.best_score_)"
   ]
  },
  {
   "cell_type": "code",
   "execution_count": 16,
   "metadata": {},
   "outputs": [
    {
     "name": "stdout",
     "output_type": "stream",
     "text": [
      "acc_train 1.0\n",
      "acc_test 0.9777777777777777\n"
     ]
    }
   ],
   "source": [
    "#### 準確率提升了 1.4%\n",
    "\n",
    "model_4 = GradientBoostingClassifier(learning_rate = 0.1, n_estimators = 200, max_depth = 3, min_samples_split =2, min_samples_leaf=15, subsample =0.7)\n",
    "model_4.fit(X_train, y_train)\n",
    "predict_train = model_4.predict(X_train)\n",
    "predict_test = model_4.predict(X_test)\n",
    "\n",
    "acc_train = metrics.accuracy_score(y_train , predict_train)\n",
    "print('acc_train',acc_train)\n",
    "acc_test = metrics.accuracy_score(y_test , predict_test)\n",
    "print('acc_test',acc_test)"
   ]
  }
 ],
 "metadata": {
  "kernelspec": {
   "display_name": "Python 3",
   "language": "python",
   "name": "python3"
  },
  "language_info": {
   "codemirror_mode": {
    "name": "ipython",
    "version": 3
   },
   "file_extension": ".py",
   "mimetype": "text/x-python",
   "name": "python",
   "nbconvert_exporter": "python",
   "pygments_lexer": "ipython3",
   "version": "3.7.1"
  }
 },
 "nbformat": 4,
 "nbformat_minor": 2
}
