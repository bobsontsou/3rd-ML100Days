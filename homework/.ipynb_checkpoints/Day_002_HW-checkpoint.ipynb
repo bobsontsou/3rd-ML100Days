{
 "cells": [
  {
   "cell_type": "markdown",
   "metadata": {},
   "source": [
    "## [作業目標]\n",
    "了解機器學習適合應用的領域與範疇。"
   ]
  },
  {
   "cell_type": "markdown",
   "metadata": {},
   "source": [
    "## [作業重點]\n",
    "透過瞭解機器學習的運作方式，找出非常適用機器學習應用的領域及其原因"
   ]
  },
  {
   "cell_type": "markdown",
   "metadata": {},
   "source": [
    "## 作業\n",
    "請找出一個你認為機器學習可以發光發熱的領域並闡述原因? "
   ]
  },
  {
   "cell_type": "code",
   "execution_count": null,
   "metadata": {},
   "outputs": [],
   "source": [
    "\n",
    "醫療器材領域: \n",
    "因現代人三餐皆外食,且作息不正常, 時常有疾病。甚至當發現要就診時, 病情已相當嚴重。\n",
    "若是有一個穿戴裝置可以隨時掌握自己身體狀況，甚至預測未來身體狀況，可提早就醫避免病情擴大。\n",
    "\n",
    "透過讓機器來學習各種病例以及健康狀況資料, 讓人們知道自己是否健康?得到甚麼病?\n",
    "好處:\n",
    "1.提早就醫, 並且可直接找到相關疾病之醫生, 以及早就醫並且避免時間浪費\n",
    "2.有時以為自己生病, 當醫院檢查時發現是健康, 透過此裝置可以避免時間浪費以及醫療資源浪費\n",
    "\n",
    "原因:\n",
    "1. 資料可與各大醫院合作取得\n",
    "2. 健康問題是現代人相當重視\n",
    "3. 時間成本縮短\n"
   ]
  }
 ],
 "metadata": {
  "kernelspec": {
   "display_name": "Python 3",
   "language": "python",
   "name": "python3"
  },
  "language_info": {
   "codemirror_mode": {
    "name": "ipython",
    "version": 3
   },
   "file_extension": ".py",
   "mimetype": "text/x-python",
   "name": "python",
   "nbconvert_exporter": "python",
   "pygments_lexer": "ipython3",
   "version": "3.7.1"
  }
 },
 "nbformat": 4,
 "nbformat_minor": 2
}
